{
 "cells": [
  {
   "cell_type": "code",
   "execution_count": 278,
   "metadata": {},
   "outputs": [],
   "source": [
    "def bisect(w):\n",
    "    ''' simply splits a string down the middle '''\n",
    "    return w[:len(w)//2], w[len(w)//2:]\n",
    "\n",
    "def shrink(a, b):\n",
    "    ''' hard to explain '''\n",
    "    return a[:-1], a[-1]+b[:-2]"
   ]
  },
  {
   "cell_type": "code",
   "execution_count": 279,
   "metadata": {},
   "outputs": [],
   "source": [
    "def unshuffle_square(w):\n",
    "    ''' Seems to have a worst case of O(n^2) when given a perfect shuffle as input\n",
    "        and a best case of O(1) when given w=u^2 as input \n",
    "    '''\n",
    "    \n",
    "    string1 = ''\n",
    "    string2 = ''\n",
    "    \n",
    "    # initialize to given string w\n",
    "    u = w\n",
    "    \n",
    "    # u shrinks as we iterate through\n",
    "    while len(u) > 0:\n",
    "        sub1, sub2 = bisect(u)\n",
    "        print('remaining:', u)\n",
    "        \n",
    "        while sub1 != sub2:\n",
    "            if sub1 == '' or sub2 == '':\n",
    "                return False\n",
    "        \n",
    "            sub1, sub2 = shrink(sub1, sub2)\n",
    "            print('substrings:', sub1, sub2)\n",
    "        \n",
    "        string1 = string1 + sub1\n",
    "        string2 = string2 + sub2\n",
    "    \n",
    "        u = w[2*len(string1):]\n",
    "        \n",
    "    print('strings:', string1, string2)\n",
    "    return True"
   ]
  },
  {
   "cell_type": "code",
   "execution_count": 295,
   "metadata": {},
   "outputs": [
    {
     "name": "stdout",
     "output_type": "stream",
     "text": [
      "remaining: llaattttee\n",
      "substrings: llaa tttt\n",
      "substrings: lla att\n",
      "substrings: ll aa\n",
      "substrings: l l\n",
      "remaining: aattttee\n",
      "substrings: aat ttt\n",
      "substrings: aa tt\n",
      "substrings: a a\n",
      "remaining: ttttee\n",
      "substrings: tt tt\n",
      "remaining: ee\n",
      "strings: latte latte\n"
     ]
    },
    {
     "data": {
      "text/plain": [
       "True"
      ]
     },
     "execution_count": 295,
     "metadata": {},
     "output_type": "execute_result"
    }
   ],
   "source": [
    "unshuffle_square('llaattttee')"
   ]
  },
  {
   "cell_type": "code",
   "execution_count": 296,
   "metadata": {},
   "outputs": [
    {
     "name": "stdout",
     "output_type": "stream",
     "text": [
      "remaining: lattelatte\n",
      "strings: latte latte\n"
     ]
    },
    {
     "data": {
      "text/plain": [
       "True"
      ]
     },
     "execution_count": 296,
     "metadata": {},
     "output_type": "execute_result"
    }
   ],
   "source": [
    "unshuffle_square('lattelatte')"
   ]
  },
  {
   "cell_type": "code",
   "execution_count": 280,
   "metadata": {},
   "outputs": [
    {
     "name": "stdout",
     "output_type": "stream",
     "text": [
      "remaining: 0110110011101000\n",
      "substrings: 0110110 0111010\n",
      "substrings: 011011 001110\n",
      "substrings: 01101 10011\n",
      "substrings: 0110 1100\n",
      "substrings: 011 011\n",
      "remaining: 0011101000\n",
      "substrings: 0011 1010\n",
      "substrings: 001 110\n",
      "substrings: 00 11\n",
      "substrings: 0 0\n",
      "remaining: 11101000\n",
      "substrings: 111 010\n",
      "substrings: 11 10\n",
      "substrings: 1 1\n",
      "remaining: 101000\n",
      "substrings: 10 10\n",
      "remaining: 00\n",
      "strings: 01101100 01101100\n"
     ]
    },
    {
     "data": {
      "text/plain": [
       "True"
      ]
     },
     "execution_count": 280,
     "metadata": {},
     "output_type": "execute_result"
    }
   ],
   "source": [
    "unshuffle_square('0110110011101000')"
   ]
  },
  {
   "cell_type": "code",
   "execution_count": 281,
   "metadata": {},
   "outputs": [
    {
     "name": "stdout",
     "output_type": "stream",
     "text": [
      "remaining: 0\n"
     ]
    },
    {
     "data": {
      "text/plain": [
       "False"
      ]
     },
     "execution_count": 281,
     "metadata": {},
     "output_type": "execute_result"
    }
   ],
   "source": [
    "unshuffle_square('0')"
   ]
  },
  {
   "cell_type": "code",
   "execution_count": 282,
   "metadata": {},
   "outputs": [
    {
     "name": "stdout",
     "output_type": "stream",
     "text": [
      "remaining: sugarsuga\n",
      "substrings: sug arsu\n",
      "substrings: su gar\n",
      "substrings: s ug\n",
      "substrings:  s\n"
     ]
    },
    {
     "data": {
      "text/plain": [
       "False"
      ]
     },
     "execution_count": 282,
     "metadata": {},
     "output_type": "execute_result"
    }
   ],
   "source": [
    "unshuffle_square('sugarsuga')"
   ]
  },
  {
   "cell_type": "code",
   "execution_count": 283,
   "metadata": {},
   "outputs": [
    {
     "name": "stdout",
     "output_type": "stream",
     "text": [
      "remaining: primeprime\n",
      "strings: prime prime\n"
     ]
    },
    {
     "data": {
      "text/plain": [
       "True"
      ]
     },
     "execution_count": 283,
     "metadata": {},
     "output_type": "execute_result"
    }
   ],
   "source": [
    "unshuffle_square('primeprime')"
   ]
  },
  {
   "cell_type": "code",
   "execution_count": 284,
   "metadata": {},
   "outputs": [
    {
     "name": "stdout",
     "output_type": "stream",
     "text": [
      "remaining: fortunefortune\n",
      "strings: fortune fortune\n"
     ]
    },
    {
     "data": {
      "text/plain": [
       "True"
      ]
     },
     "execution_count": 284,
     "metadata": {},
     "output_type": "execute_result"
    }
   ],
   "source": [
    "unshuffle_square('fortunefortune')"
   ]
  },
  {
   "cell_type": "code",
   "execution_count": 285,
   "metadata": {},
   "outputs": [
    {
     "name": "stdout",
     "output_type": "stream",
     "text": [
      "remaining: bbaananan_ana_nabatt\n",
      "substrings: bbaananan _ana_naba\n",
      "substrings: bbaanana n_ana_na\n",
      "substrings: bbaanan an_ana_\n",
      "substrings: bbaana nan_an\n",
      "substrings: bbaan anan_\n",
      "substrings: bbaa nana\n",
      "substrings: bba ana\n",
      "substrings: bb aa\n",
      "substrings: b b\n",
      "remaining: aananan_ana_nabatt\n",
      "substrings: aananan_ ana_naba\n",
      "substrings: aananan _ana_na\n",
      "substrings: aanana n_ana_\n",
      "substrings: aanan an_an\n",
      "substrings: aana nan_\n",
      "substrings: aan ana\n",
      "substrings: aa na\n",
      "substrings: a a\n",
      "remaining: nanan_ana_nabatt\n",
      "substrings: nanan_a na_naba\n",
      "substrings: nanan_ ana_na\n",
      "substrings: nanan _ana_\n",
      "substrings: nana n_an\n",
      "substrings: nan an_\n",
      "substrings: na na\n",
      "remaining: n_ana_nabatt\n",
      "substrings: n_ana _naba\n",
      "substrings: n_an a_na\n",
      "substrings: n_a na_\n",
      "substrings: n_ an\n",
      "substrings: n _\n",
      "substrings:  n\n"
     ]
    },
    {
     "data": {
      "text/plain": [
       "False"
      ]
     },
     "execution_count": 285,
     "metadata": {},
     "output_type": "execute_result"
    }
   ],
   "source": [
    "unshuffle_square('bbaananan_ana_nabatt')"
   ]
  },
  {
   "cell_type": "code",
   "execution_count": 286,
   "metadata": {},
   "outputs": [
    {
     "name": "stdout",
     "output_type": "stream",
     "text": [
      "remaining: nunuttttererbubutttterer\n",
      "substrings: nunuttttere rbubutttter\n",
      "substrings: nunutttter erbubutttt\n",
      "substrings: nunutttte rerbubutt\n",
      "substrings: nunutttt ererbubu\n",
      "substrings: nunuttt tererbu\n",
      "substrings: nunutt tterer\n",
      "substrings: nunut ttter\n",
      "substrings: nunu tttt\n",
      "substrings: nun utt\n",
      "substrings: nu nu\n",
      "remaining: ttttererbubutttterer\n",
      "substrings: ttttererb ubutttter\n",
      "substrings: tttterer bubutttt\n",
      "substrings: ttttere rbubutt\n",
      "substrings: tttter erbubu\n",
      "substrings: tttte rerbu\n",
      "substrings: tttt erer\n",
      "substrings: ttt ter\n",
      "substrings: tt tt\n",
      "remaining: ererbubutttterer\n",
      "substrings: ererbub utttter\n",
      "substrings: ererbu butttt\n",
      "substrings: ererb ubutt\n",
      "substrings: erer bubu\n",
      "substrings: ere rbu\n",
      "substrings: er er\n",
      "remaining: bubutttterer\n",
      "substrings: bubut ttter\n",
      "substrings: bubu tttt\n",
      "substrings: bub utt\n",
      "substrings: bu bu\n",
      "remaining: tttterer\n",
      "substrings: ttt ter\n",
      "substrings: tt tt\n",
      "remaining: erer\n",
      "strings: nutterbutter nutterbutter\n"
     ]
    },
    {
     "data": {
      "text/plain": [
       "True"
      ]
     },
     "execution_count": 286,
     "metadata": {},
     "output_type": "execute_result"
    }
   ],
   "source": [
    "unshuffle_square('nunuttttererbubutttterer')"
   ]
  },
  {
   "cell_type": "code",
   "execution_count": 287,
   "metadata": {},
   "outputs": [
    {
     "name": "stdout",
     "output_type": "stream",
     "text": [
      "remaining: 01\n",
      "substrings:  0\n"
     ]
    },
    {
     "data": {
      "text/plain": [
       "False"
      ]
     },
     "execution_count": 287,
     "metadata": {},
     "output_type": "execute_result"
    }
   ],
   "source": [
    "unshuffle_square('01')"
   ]
  },
  {
   "cell_type": "code",
   "execution_count": 288,
   "metadata": {},
   "outputs": [
    {
     "name": "stdout",
     "output_type": "stream",
     "text": [
      "remaining: 10\n",
      "substrings:  1\n"
     ]
    },
    {
     "data": {
      "text/plain": [
       "False"
      ]
     },
     "execution_count": 288,
     "metadata": {},
     "output_type": "execute_result"
    }
   ],
   "source": [
    "unshuffle_square('10')"
   ]
  },
  {
   "cell_type": "code",
   "execution_count": 289,
   "metadata": {},
   "outputs": [
    {
     "name": "stdout",
     "output_type": "stream",
     "text": [
      "remaining: 00\n",
      "strings: 0 0\n"
     ]
    },
    {
     "data": {
      "text/plain": [
       "True"
      ]
     },
     "execution_count": 289,
     "metadata": {},
     "output_type": "execute_result"
    }
   ],
   "source": [
    "unshuffle_square('00')"
   ]
  },
  {
   "cell_type": "code",
   "execution_count": 290,
   "metadata": {},
   "outputs": [
    {
     "name": "stdout",
     "output_type": "stream",
     "text": [
      "remaining: 011110001011110001\n",
      "strings: 011110001 011110001\n"
     ]
    },
    {
     "data": {
      "text/plain": [
       "True"
      ]
     },
     "execution_count": 290,
     "metadata": {},
     "output_type": "execute_result"
    }
   ],
   "source": [
    "unshuffle_square('011110001011110001')"
   ]
  },
  {
   "cell_type": "code",
   "execution_count": 291,
   "metadata": {},
   "outputs": [
    {
     "name": "stdout",
     "output_type": "stream",
     "text": [
      "remaining: 111011111001111101\n",
      "substrings: 11101111 10011111\n",
      "substrings: 1110111 1100111\n",
      "substrings: 111011 111001\n",
      "substrings: 11101 11110\n",
      "substrings: 1110 1111\n",
      "substrings: 111 011\n",
      "substrings: 11 10\n",
      "substrings: 1 1\n",
      "remaining: 1011111001111101\n",
      "substrings: 1011111 0011111\n",
      "substrings: 101111 100111\n",
      "substrings: 10111 11001\n",
      "substrings: 1011 1110\n",
      "substrings: 101 111\n",
      "substrings: 10 11\n",
      "substrings: 1 0\n",
      "substrings:  1\n"
     ]
    },
    {
     "data": {
      "text/plain": [
       "False"
      ]
     },
     "execution_count": 291,
     "metadata": {},
     "output_type": "execute_result"
    }
   ],
   "source": [
    "unshuffle_square('111011111001111101')"
   ]
  },
  {
   "cell_type": "code",
   "execution_count": 292,
   "metadata": {},
   "outputs": [
    {
     "name": "stdout",
     "output_type": "stream",
     "text": [
      "remaining: 110111111110111101\n",
      "substrings: 11011111 11101111\n",
      "substrings: 1101111 1111011\n",
      "substrings: 110111 111110\n",
      "substrings: 11011 11111\n",
      "substrings: 1101 1111\n",
      "substrings: 110 111\n",
      "substrings: 11 01\n",
      "substrings: 1 1\n",
      "remaining: 0111111110111101\n",
      "substrings: 0111111 1101111\n",
      "substrings: 011111 111011\n",
      "substrings: 01111 11110\n",
      "substrings: 0111 1111\n",
      "substrings: 011 111\n",
      "substrings: 01 11\n",
      "substrings: 0 1\n",
      "substrings:  0\n"
     ]
    },
    {
     "data": {
      "text/plain": [
       "False"
      ]
     },
     "execution_count": 292,
     "metadata": {},
     "output_type": "execute_result"
    }
   ],
   "source": [
    "unshuffle_square('110111111110111101')"
   ]
  },
  {
   "cell_type": "code",
   "execution_count": 293,
   "metadata": {},
   "outputs": [
    {
     "name": "stdout",
     "output_type": "stream",
     "text": [
      "remaining: nnuutttteebrurtterbutter\n",
      "substrings: nnuutttteeb rurtterbutt\n",
      "substrings: nnuuttttee brurtterbu\n",
      "substrings: nnuutttte ebrurtter\n",
      "substrings: nnuutttt eebrurtt\n",
      "substrings: nnuuttt teebrur\n",
      "substrings: nnuutt tteebr\n",
      "substrings: nnuut tttee\n",
      "substrings: nnuu tttt\n",
      "substrings: nnu utt\n",
      "substrings: nn uu\n",
      "substrings: n n\n",
      "remaining: uutttteebrurtterbutter\n",
      "substrings: uutttteebr urtterbutt\n",
      "substrings: uutttteeb rurtterbu\n",
      "substrings: uuttttee brurtter\n",
      "substrings: uutttte ebrurtt\n",
      "substrings: uutttt eebrur\n",
      "substrings: uuttt teebr\n",
      "substrings: uutt ttee\n",
      "substrings: uut ttt\n",
      "substrings: uu tt\n",
      "substrings: u u\n",
      "remaining: tttteebrurtterbutter\n",
      "substrings: tttteebru rtterbutt\n",
      "substrings: tttteebr urtterbu\n",
      "substrings: tttteeb rurtter\n",
      "substrings: ttttee brurtt\n",
      "substrings: tttte ebrur\n",
      "substrings: tttt eebr\n",
      "substrings: ttt tee\n",
      "substrings: tt tt\n",
      "remaining: eebrurtterbutter\n",
      "substrings: eebrurt terbutt\n",
      "substrings: eebrur tterbu\n",
      "substrings: eebru rtter\n",
      "substrings: eebr urtt\n",
      "substrings: eeb rur\n",
      "substrings: ee br\n",
      "substrings: e e\n",
      "remaining: brurtterbutter\n",
      "substrings: brurtt erbutt\n",
      "substrings: brurt terbu\n",
      "substrings: brur tter\n",
      "substrings: bru rtt\n",
      "substrings: br ur\n",
      "substrings: b r\n",
      "substrings:  b\n"
     ]
    },
    {
     "data": {
      "text/plain": [
       "False"
      ]
     },
     "execution_count": 293,
     "metadata": {},
     "output_type": "execute_result"
    }
   ],
   "source": [
    "unshuffle_square('nnuutttteebrurtterbutter')"
   ]
  },
  {
   "cell_type": "code",
   "execution_count": 294,
   "metadata": {},
   "outputs": [
    {
     "name": "stdout",
     "output_type": "stream",
     "text": [
      "remaining: ababcdeababcde\n",
      "strings: ababcde ababcde\n"
     ]
    },
    {
     "data": {
      "text/plain": [
       "True"
      ]
     },
     "execution_count": 294,
     "metadata": {},
     "output_type": "execute_result"
    }
   ],
   "source": [
    "unshuffle_square('ababcdeababcde')"
   ]
  },
  {
   "cell_type": "code",
   "execution_count": 297,
   "metadata": {
    "scrolled": false
   },
   "outputs": [
    {
     "name": "stdout",
     "output_type": "stream",
     "text": [
      "remaining: aabbccddeeffgghhiijjkkllmmnnooppqqrrssttuuvvwwxxyyzz\n",
      "substrings: aabbccddeeffgghhiijjkkllm mnnooppqqrrssttuuvvwwxxyy\n",
      "substrings: aabbccddeeffgghhiijjkkll mmnnooppqqrrssttuuvvwwxx\n",
      "substrings: aabbccddeeffgghhiijjkkl lmmnnooppqqrrssttuuvvww\n",
      "substrings: aabbccddeeffgghhiijjkk llmmnnooppqqrrssttuuvv\n",
      "substrings: aabbccddeeffgghhiijjk kllmmnnooppqqrrssttuu\n",
      "substrings: aabbccddeeffgghhiijj kkllmmnnooppqqrrsstt\n",
      "substrings: aabbccddeeffgghhiij jkkllmmnnooppqqrrss\n",
      "substrings: aabbccddeeffgghhii jjkkllmmnnooppqqrr\n",
      "substrings: aabbccddeeffgghhi ijjkkllmmnnooppqq\n",
      "substrings: aabbccddeeffgghh iijjkkllmmnnoopp\n",
      "substrings: aabbccddeeffggh hiijjkkllmmnnoo\n",
      "substrings: aabbccddeeffgg hhiijjkkllmmnn\n",
      "substrings: aabbccddeeffg ghhiijjkkllmm\n",
      "substrings: aabbccddeeff gghhiijjkkll\n",
      "substrings: aabbccddeef fgghhiijjkk\n",
      "substrings: aabbccddee ffgghhiijj\n",
      "substrings: aabbccdde effgghhii\n",
      "substrings: aabbccdd eeffgghh\n",
      "substrings: aabbccd deeffgg\n",
      "substrings: aabbcc ddeeff\n",
      "substrings: aabbc cddee\n",
      "substrings: aabb ccdd\n",
      "substrings: aab bcc\n",
      "substrings: aa bb\n",
      "substrings: a a\n",
      "remaining: bbccddeeffgghhiijjkkllmmnnooppqqrrssttuuvvwwxxyyzz\n",
      "substrings: bbccddeeffgghhiijjkkllmm nnooppqqrrssttuuvvwwxxyy\n",
      "substrings: bbccddeeffgghhiijjkkllm mnnooppqqrrssttuuvvwwxx\n",
      "substrings: bbccddeeffgghhiijjkkll mmnnooppqqrrssttuuvvww\n",
      "substrings: bbccddeeffgghhiijjkkl lmmnnooppqqrrssttuuvv\n",
      "substrings: bbccddeeffgghhiijjkk llmmnnooppqqrrssttuu\n",
      "substrings: bbccddeeffgghhiijjk kllmmnnooppqqrrsstt\n",
      "substrings: bbccddeeffgghhiijj kkllmmnnooppqqrrss\n",
      "substrings: bbccddeeffgghhiij jkkllmmnnooppqqrr\n",
      "substrings: bbccddeeffgghhii jjkkllmmnnooppqq\n",
      "substrings: bbccddeeffgghhi ijjkkllmmnnoopp\n",
      "substrings: bbccddeeffgghh iijjkkllmmnnoo\n",
      "substrings: bbccddeeffggh hiijjkkllmmnn\n",
      "substrings: bbccddeeffgg hhiijjkkllmm\n",
      "substrings: bbccddeeffg ghhiijjkkll\n",
      "substrings: bbccddeeff gghhiijjkk\n",
      "substrings: bbccddeef fgghhiijj\n",
      "substrings: bbccddee ffgghhii\n",
      "substrings: bbccdde effgghh\n",
      "substrings: bbccdd eeffgg\n",
      "substrings: bbccd deeff\n",
      "substrings: bbcc ddee\n",
      "substrings: bbc cdd\n",
      "substrings: bb cc\n",
      "substrings: b b\n",
      "remaining: ccddeeffgghhiijjkkllmmnnooppqqrrssttuuvvwwxxyyzz\n",
      "substrings: ccddeeffgghhiijjkkllmmn nooppqqrrssttuuvvwwxxyy\n",
      "substrings: ccddeeffgghhiijjkkllmm nnooppqqrrssttuuvvwwxx\n",
      "substrings: ccddeeffgghhiijjkkllm mnnooppqqrrssttuuvvww\n",
      "substrings: ccddeeffgghhiijjkkll mmnnooppqqrrssttuuvv\n",
      "substrings: ccddeeffgghhiijjkkl lmmnnooppqqrrssttuu\n",
      "substrings: ccddeeffgghhiijjkk llmmnnooppqqrrsstt\n",
      "substrings: ccddeeffgghhiijjk kllmmnnooppqqrrss\n",
      "substrings: ccddeeffgghhiijj kkllmmnnooppqqrr\n",
      "substrings: ccddeeffgghhiij jkkllmmnnooppqq\n",
      "substrings: ccddeeffgghhii jjkkllmmnnoopp\n",
      "substrings: ccddeeffgghhi ijjkkllmmnnoo\n",
      "substrings: ccddeeffgghh iijjkkllmmnn\n",
      "substrings: ccddeeffggh hiijjkkllmm\n",
      "substrings: ccddeeffgg hhiijjkkll\n",
      "substrings: ccddeeffg ghhiijjkk\n",
      "substrings: ccddeeff gghhiijj\n",
      "substrings: ccddeef fgghhii\n",
      "substrings: ccddee ffgghh\n",
      "substrings: ccdde effgg\n",
      "substrings: ccdd eeff\n",
      "substrings: ccd dee\n",
      "substrings: cc dd\n",
      "substrings: c c\n",
      "remaining: ddeeffgghhiijjkkllmmnnooppqqrrssttuuvvwwxxyyzz\n",
      "substrings: ddeeffgghhiijjkkllmmnn ooppqqrrssttuuvvwwxxyy\n",
      "substrings: ddeeffgghhiijjkkllmmn nooppqqrrssttuuvvwwxx\n",
      "substrings: ddeeffgghhiijjkkllmm nnooppqqrrssttuuvvww\n",
      "substrings: ddeeffgghhiijjkkllm mnnooppqqrrssttuuvv\n",
      "substrings: ddeeffgghhiijjkkll mmnnooppqqrrssttuu\n",
      "substrings: ddeeffgghhiijjkkl lmmnnooppqqrrsstt\n",
      "substrings: ddeeffgghhiijjkk llmmnnooppqqrrss\n",
      "substrings: ddeeffgghhiijjk kllmmnnooppqqrr\n",
      "substrings: ddeeffgghhiijj kkllmmnnooppqq\n",
      "substrings: ddeeffgghhiij jkkllmmnnoopp\n",
      "substrings: ddeeffgghhii jjkkllmmnnoo\n",
      "substrings: ddeeffgghhi ijjkkllmmnn\n",
      "substrings: ddeeffgghh iijjkkllmm\n",
      "substrings: ddeeffggh hiijjkkll\n",
      "substrings: ddeeffgg hhiijjkk\n",
      "substrings: ddeeffg ghhiijj\n",
      "substrings: ddeeff gghhii\n",
      "substrings: ddeef fgghh\n",
      "substrings: ddee ffgg\n",
      "substrings: dde eff\n",
      "substrings: dd ee\n",
      "substrings: d d\n",
      "remaining: eeffgghhiijjkkllmmnnooppqqrrssttuuvvwwxxyyzz\n",
      "substrings: eeffgghhiijjkkllmmnno oppqqrrssttuuvvwwxxyy\n",
      "substrings: eeffgghhiijjkkllmmnn ooppqqrrssttuuvvwwxx\n",
      "substrings: eeffgghhiijjkkllmmn nooppqqrrssttuuvvww\n",
      "substrings: eeffgghhiijjkkllmm nnooppqqrrssttuuvv\n",
      "substrings: eeffgghhiijjkkllm mnnooppqqrrssttuu\n",
      "substrings: eeffgghhiijjkkll mmnnooppqqrrsstt\n",
      "substrings: eeffgghhiijjkkl lmmnnooppqqrrss\n",
      "substrings: eeffgghhiijjkk llmmnnooppqqrr\n",
      "substrings: eeffgghhiijjk kllmmnnooppqq\n",
      "substrings: eeffgghhiijj kkllmmnnoopp\n",
      "substrings: eeffgghhiij jkkllmmnnoo\n",
      "substrings: eeffgghhii jjkkllmmnn\n",
      "substrings: eeffgghhi ijjkkllmm\n",
      "substrings: eeffgghh iijjkkll\n",
      "substrings: eeffggh hiijjkk\n",
      "substrings: eeffgg hhiijj\n",
      "substrings: eeffg ghhii\n",
      "substrings: eeff gghh\n",
      "substrings: eef fgg\n",
      "substrings: ee ff\n",
      "substrings: e e\n",
      "remaining: ffgghhiijjkkllmmnnooppqqrrssttuuvvwwxxyyzz\n",
      "substrings: ffgghhiijjkkllmmnnoo ppqqrrssttuuvvwwxxyy\n",
      "substrings: ffgghhiijjkkllmmnno oppqqrrssttuuvvwwxx\n",
      "substrings: ffgghhiijjkkllmmnn ooppqqrrssttuuvvww\n",
      "substrings: ffgghhiijjkkllmmn nooppqqrrssttuuvv\n",
      "substrings: ffgghhiijjkkllmm nnooppqqrrssttuu\n",
      "substrings: ffgghhiijjkkllm mnnooppqqrrsstt\n",
      "substrings: ffgghhiijjkkll mmnnooppqqrrss\n",
      "substrings: ffgghhiijjkkl lmmnnooppqqrr\n",
      "substrings: ffgghhiijjkk llmmnnooppqq\n",
      "substrings: ffgghhiijjk kllmmnnoopp\n",
      "substrings: ffgghhiijj kkllmmnnoo\n",
      "substrings: ffgghhiij jkkllmmnn\n",
      "substrings: ffgghhii jjkkllmm\n",
      "substrings: ffgghhi ijjkkll\n",
      "substrings: ffgghh iijjkk\n",
      "substrings: ffggh hiijj\n",
      "substrings: ffgg hhii\n",
      "substrings: ffg ghh\n",
      "substrings: ff gg\n",
      "substrings: f f\n",
      "remaining: gghhiijjkkllmmnnooppqqrrssttuuvvwwxxyyzz\n",
      "substrings: gghhiijjkkllmmnnoop pqqrrssttuuvvwwxxyy\n",
      "substrings: gghhiijjkkllmmnnoo ppqqrrssttuuvvwwxx\n",
      "substrings: gghhiijjkkllmmnno oppqqrrssttuuvvww\n",
      "substrings: gghhiijjkkllmmnn ooppqqrrssttuuvv\n",
      "substrings: gghhiijjkkllmmn nooppqqrrssttuu\n",
      "substrings: gghhiijjkkllmm nnooppqqrrsstt\n",
      "substrings: gghhiijjkkllm mnnooppqqrrss\n",
      "substrings: gghhiijjkkll mmnnooppqqrr\n",
      "substrings: gghhiijjkkl lmmnnooppqq\n",
      "substrings: gghhiijjkk llmmnnoopp\n",
      "substrings: gghhiijjk kllmmnnoo\n",
      "substrings: gghhiijj kkllmmnn\n",
      "substrings: gghhiij jkkllmm\n",
      "substrings: gghhii jjkkll\n",
      "substrings: gghhi ijjkk\n",
      "substrings: gghh iijj\n",
      "substrings: ggh hii\n",
      "substrings: gg hh\n",
      "substrings: g g\n",
      "remaining: hhiijjkkllmmnnooppqqrrssttuuvvwwxxyyzz\n",
      "substrings: hhiijjkkllmmnnoopp qqrrssttuuvvwwxxyy\n",
      "substrings: hhiijjkkllmmnnoop pqqrrssttuuvvwwxx\n",
      "substrings: hhiijjkkllmmnnoo ppqqrrssttuuvvww\n",
      "substrings: hhiijjkkllmmnno oppqqrrssttuuvv\n",
      "substrings: hhiijjkkllmmnn ooppqqrrssttuu\n",
      "substrings: hhiijjkkllmmn nooppqqrrsstt\n",
      "substrings: hhiijjkkllmm nnooppqqrrss\n",
      "substrings: hhiijjkkllm mnnooppqqrr\n",
      "substrings: hhiijjkkll mmnnooppqq\n",
      "substrings: hhiijjkkl lmmnnoopp\n",
      "substrings: hhiijjkk llmmnnoo\n",
      "substrings: hhiijjk kllmmnn\n",
      "substrings: hhiijj kkllmm\n",
      "substrings: hhiij jkkll\n",
      "substrings: hhii jjkk\n",
      "substrings: hhi ijj\n",
      "substrings: hh ii\n",
      "substrings: h h\n",
      "remaining: iijjkkllmmnnooppqqrrssttuuvvwwxxyyzz\n",
      "substrings: iijjkkllmmnnooppq qrrssttuuvvwwxxyy\n",
      "substrings: iijjkkllmmnnoopp qqrrssttuuvvwwxx\n",
      "substrings: iijjkkllmmnnoop pqqrrssttuuvvww\n",
      "substrings: iijjkkllmmnnoo ppqqrrssttuuvv\n",
      "substrings: iijjkkllmmnno oppqqrrssttuu\n",
      "substrings: iijjkkllmmnn ooppqqrrsstt\n",
      "substrings: iijjkkllmmn nooppqqrrss\n",
      "substrings: iijjkkllmm nnooppqqrr\n",
      "substrings: iijjkkllm mnnooppqq\n",
      "substrings: iijjkkll mmnnoopp\n",
      "substrings: iijjkkl lmmnnoo\n",
      "substrings: iijjkk llmmnn\n",
      "substrings: iijjk kllmm\n",
      "substrings: iijj kkll\n",
      "substrings: iij jkk\n",
      "substrings: ii jj\n",
      "substrings: i i\n",
      "remaining: jjkkllmmnnooppqqrrssttuuvvwwxxyyzz\n",
      "substrings: jjkkllmmnnooppqq rrssttuuvvwwxxyy\n",
      "substrings: jjkkllmmnnooppq qrrssttuuvvwwxx\n",
      "substrings: jjkkllmmnnoopp qqrrssttuuvvww\n",
      "substrings: jjkkllmmnnoop pqqrrssttuuvv\n",
      "substrings: jjkkllmmnnoo ppqqrrssttuu\n",
      "substrings: jjkkllmmnno oppqqrrsstt\n",
      "substrings: jjkkllmmnn ooppqqrrss\n",
      "substrings: jjkkllmmn nooppqqrr\n",
      "substrings: jjkkllmm nnooppqq\n",
      "substrings: jjkkllm mnnoopp\n",
      "substrings: jjkkll mmnnoo\n",
      "substrings: jjkkl lmmnn\n",
      "substrings: jjkk llmm\n",
      "substrings: jjk kll\n",
      "substrings: jj kk\n",
      "substrings: j j\n",
      "remaining: kkllmmnnooppqqrrssttuuvvwwxxyyzz\n",
      "substrings: kkllmmnnooppqqr rssttuuvvwwxxyy\n",
      "substrings: kkllmmnnooppqq rrssttuuvvwwxx\n",
      "substrings: kkllmmnnooppq qrrssttuuvvww\n",
      "substrings: kkllmmnnoopp qqrrssttuuvv\n",
      "substrings: kkllmmnnoop pqqrrssttuu\n",
      "substrings: kkllmmnnoo ppqqrrsstt\n",
      "substrings: kkllmmnno oppqqrrss\n",
      "substrings: kkllmmnn ooppqqrr\n",
      "substrings: kkllmmn nooppqq\n",
      "substrings: kkllmm nnoopp\n",
      "substrings: kkllm mnnoo\n",
      "substrings: kkll mmnn\n",
      "substrings: kkl lmm\n",
      "substrings: kk ll\n",
      "substrings: k k\n",
      "remaining: llmmnnooppqqrrssttuuvvwwxxyyzz\n",
      "substrings: llmmnnooppqqrr ssttuuvvwwxxyy\n",
      "substrings: llmmnnooppqqr rssttuuvvwwxx\n",
      "substrings: llmmnnooppqq rrssttuuvvww\n",
      "substrings: llmmnnooppq qrrssttuuvv\n",
      "substrings: llmmnnoopp qqrrssttuu\n",
      "substrings: llmmnnoop pqqrrsstt\n",
      "substrings: llmmnnoo ppqqrrss\n",
      "substrings: llmmnno oppqqrr\n",
      "substrings: llmmnn ooppqq\n",
      "substrings: llmmn noopp\n",
      "substrings: llmm nnoo\n",
      "substrings: llm mnn\n",
      "substrings: ll mm\n",
      "substrings: l l\n",
      "remaining: mmnnooppqqrrssttuuvvwwxxyyzz\n",
      "substrings: mmnnooppqqrrs sttuuvvwwxxyy\n",
      "substrings: mmnnooppqqrr ssttuuvvwwxx\n",
      "substrings: mmnnooppqqr rssttuuvvww\n",
      "substrings: mmnnooppqq rrssttuuvv\n",
      "substrings: mmnnooppq qrrssttuu\n",
      "substrings: mmnnoopp qqrrsstt\n",
      "substrings: mmnnoop pqqrrss\n",
      "substrings: mmnnoo ppqqrr\n",
      "substrings: mmnno oppqq\n",
      "substrings: mmnn oopp\n",
      "substrings: mmn noo\n",
      "substrings: mm nn\n",
      "substrings: m m\n",
      "remaining: nnooppqqrrssttuuvvwwxxyyzz\n",
      "substrings: nnooppqqrrss ttuuvvwwxxyy\n",
      "substrings: nnooppqqrrs sttuuvvwwxx\n",
      "substrings: nnooppqqrr ssttuuvvww\n",
      "substrings: nnooppqqr rssttuuvv\n",
      "substrings: nnooppqq rrssttuu\n",
      "substrings: nnooppq qrrsstt\n",
      "substrings: nnoopp qqrrss\n",
      "substrings: nnoop pqqrr\n",
      "substrings: nnoo ppqq\n",
      "substrings: nno opp\n",
      "substrings: nn oo\n",
      "substrings: n n\n",
      "remaining: ooppqqrrssttuuvvwwxxyyzz\n",
      "substrings: ooppqqrrsst tuuvvwwxxyy\n",
      "substrings: ooppqqrrss ttuuvvwwxx\n",
      "substrings: ooppqqrrs sttuuvvww\n",
      "substrings: ooppqqrr ssttuuvv\n",
      "substrings: ooppqqr rssttuu\n",
      "substrings: ooppqq rrsstt\n",
      "substrings: ooppq qrrss\n",
      "substrings: oopp qqrr\n",
      "substrings: oop pqq\n",
      "substrings: oo pp\n",
      "substrings: o o\n",
      "remaining: ppqqrrssttuuvvwwxxyyzz\n",
      "substrings: ppqqrrsstt uuvvwwxxyy\n",
      "substrings: ppqqrrsst tuuvvwwxx\n",
      "substrings: ppqqrrss ttuuvvww\n",
      "substrings: ppqqrrs sttuuvv\n",
      "substrings: ppqqrr ssttuu\n",
      "substrings: ppqqr rsstt\n",
      "substrings: ppqq rrss\n",
      "substrings: ppq qrr\n",
      "substrings: pp qq\n",
      "substrings: p p\n",
      "remaining: qqrrssttuuvvwwxxyyzz\n",
      "substrings: qqrrssttu uvvwwxxyy\n",
      "substrings: qqrrsstt uuvvwwxx\n",
      "substrings: qqrrsst tuuvvww\n",
      "substrings: qqrrss ttuuvv\n",
      "substrings: qqrrs sttuu\n",
      "substrings: qqrr sstt\n",
      "substrings: qqr rss\n",
      "substrings: qq rr\n",
      "substrings: q q\n",
      "remaining: rrssttuuvvwwxxyyzz\n",
      "substrings: rrssttuu vvwwxxyy\n",
      "substrings: rrssttu uvvwwxx\n",
      "substrings: rrsstt uuvvww\n",
      "substrings: rrsst tuuvv\n",
      "substrings: rrss ttuu\n",
      "substrings: rrs stt\n",
      "substrings: rr ss\n",
      "substrings: r r\n",
      "remaining: ssttuuvvwwxxyyzz\n",
      "substrings: ssttuuv vwwxxyy\n",
      "substrings: ssttuu vvwwxx\n",
      "substrings: ssttu uvvww\n",
      "substrings: sstt uuvv\n",
      "substrings: sst tuu\n",
      "substrings: ss tt\n",
      "substrings: s s\n",
      "remaining: ttuuvvwwxxyyzz\n",
      "substrings: ttuuvv wwxxyy\n",
      "substrings: ttuuv vwwxx\n",
      "substrings: ttuu vvww\n",
      "substrings: ttu uvv\n",
      "substrings: tt uu\n",
      "substrings: t t\n",
      "remaining: uuvvwwxxyyzz\n",
      "substrings: uuvvw wxxyy\n",
      "substrings: uuvv wwxx\n",
      "substrings: uuv vww\n",
      "substrings: uu vv\n",
      "substrings: u u\n",
      "remaining: vvwwxxyyzz\n"
     ]
    },
    {
     "name": "stdout",
     "output_type": "stream",
     "text": [
      "substrings: vvww xxyy\n",
      "substrings: vvw wxx\n",
      "substrings: vv ww\n",
      "substrings: v v\n",
      "remaining: wwxxyyzz\n",
      "substrings: wwx xyy\n",
      "substrings: ww xx\n",
      "substrings: w w\n",
      "remaining: xxyyzz\n",
      "substrings: xx yy\n",
      "substrings: x x\n",
      "remaining: yyzz\n",
      "substrings: y y\n",
      "remaining: zz\n",
      "strings: abcdefghijklmnopqrstuvwxyz abcdefghijklmnopqrstuvwxyz\n"
     ]
    },
    {
     "data": {
      "text/plain": [
       "True"
      ]
     },
     "execution_count": 297,
     "metadata": {},
     "output_type": "execute_result"
    }
   ],
   "source": [
    "unshuffle_square('aabbccddeeffgghhiijjkkllmmnnooppqqrrssttuuvvwwxxyyzz')"
   ]
  },
  {
   "cell_type": "code",
   "execution_count": 298,
   "metadata": {},
   "outputs": [
    {
     "name": "stdout",
     "output_type": "stream",
     "text": [
      "remaining: xgfxkhgcfhvgljhduygjhvghgdutyfguyjcvhgddkfhgvghdhkdflhchgxdghfdcjhvchgxgfdkhgchkxdgdhkgfchkgdh\n",
      "substrings: xgfxkhgcfhvgljhduygjhvghgdutyfguyjcvhgddkfhgvg hdhkdflhchgxdghfdcjhvchgxgfdkhgchkxdgdhkgfchkg\n",
      "substrings: xgfxkhgcfhvgljhduygjhvghgdutyfguyjcvhgddkfhgv ghdhkdflhchgxdghfdcjhvchgxgfdkhgchkxdgdhkgfch\n",
      "substrings: xgfxkhgcfhvgljhduygjhvghgdutyfguyjcvhgddkfhg vghdhkdflhchgxdghfdcjhvchgxgfdkhgchkxdgdhkgf\n",
      "substrings: xgfxkhgcfhvgljhduygjhvghgdutyfguyjcvhgddkfh gvghdhkdflhchgxdghfdcjhvchgxgfdkhgchkxdgdhk\n",
      "substrings: xgfxkhgcfhvgljhduygjhvghgdutyfguyjcvhgddkf hgvghdhkdflhchgxdghfdcjhvchgxgfdkhgchkxdgd\n",
      "substrings: xgfxkhgcfhvgljhduygjhvghgdutyfguyjcvhgddk fhgvghdhkdflhchgxdghfdcjhvchgxgfdkhgchkxd\n",
      "substrings: xgfxkhgcfhvgljhduygjhvghgdutyfguyjcvhgdd kfhgvghdhkdflhchgxdghfdcjhvchgxgfdkhgchk\n",
      "substrings: xgfxkhgcfhvgljhduygjhvghgdutyfguyjcvhgd dkfhgvghdhkdflhchgxdghfdcjhvchgxgfdkhgc\n",
      "substrings: xgfxkhgcfhvgljhduygjhvghgdutyfguyjcvhg ddkfhgvghdhkdflhchgxdghfdcjhvchgxgfdkh\n",
      "substrings: xgfxkhgcfhvgljhduygjhvghgdutyfguyjcvh gddkfhgvghdhkdflhchgxdghfdcjhvchgxgfd\n",
      "substrings: xgfxkhgcfhvgljhduygjhvghgdutyfguyjcv hgddkfhgvghdhkdflhchgxdghfdcjhvchgxg\n",
      "substrings: xgfxkhgcfhvgljhduygjhvghgdutyfguyjc vhgddkfhgvghdhkdflhchgxdghfdcjhvchg\n",
      "substrings: xgfxkhgcfhvgljhduygjhvghgdutyfguyj cvhgddkfhgvghdhkdflhchgxdghfdcjhvc\n",
      "substrings: xgfxkhgcfhvgljhduygjhvghgdutyfguy jcvhgddkfhgvghdhkdflhchgxdghfdcjh\n",
      "substrings: xgfxkhgcfhvgljhduygjhvghgdutyfgu yjcvhgddkfhgvghdhkdflhchgxdghfdc\n",
      "substrings: xgfxkhgcfhvgljhduygjhvghgdutyfg uyjcvhgddkfhgvghdhkdflhchgxdghf\n",
      "substrings: xgfxkhgcfhvgljhduygjhvghgdutyf guyjcvhgddkfhgvghdhkdflhchgxdg\n",
      "substrings: xgfxkhgcfhvgljhduygjhvghgduty fguyjcvhgddkfhgvghdhkdflhchgx\n",
      "substrings: xgfxkhgcfhvgljhduygjhvghgdut yfguyjcvhgddkfhgvghdhkdflhch\n",
      "substrings: xgfxkhgcfhvgljhduygjhvghgdu tyfguyjcvhgddkfhgvghdhkdflh\n",
      "substrings: xgfxkhgcfhvgljhduygjhvghgd utyfguyjcvhgddkfhgvghdhkdf\n",
      "substrings: xgfxkhgcfhvgljhduygjhvghg dutyfguyjcvhgddkfhgvghdhk\n",
      "substrings: xgfxkhgcfhvgljhduygjhvgh gdutyfguyjcvhgddkfhgvghd\n",
      "substrings: xgfxkhgcfhvgljhduygjhvg hgdutyfguyjcvhgddkfhgvg\n",
      "substrings: xgfxkhgcfhvgljhduygjhv ghgdutyfguyjcvhgddkfhg\n",
      "substrings: xgfxkhgcfhvgljhduygjh vghgdutyfguyjcvhgddkf\n",
      "substrings: xgfxkhgcfhvgljhduygj hvghgdutyfguyjcvhgdd\n",
      "substrings: xgfxkhgcfhvgljhduyg jhvghgdutyfguyjcvhg\n",
      "substrings: xgfxkhgcfhvgljhduy gjhvghgdutyfguyjcv\n",
      "substrings: xgfxkhgcfhvgljhdu ygjhvghgdutyfguyj\n",
      "substrings: xgfxkhgcfhvgljhd uygjhvghgdutyfgu\n",
      "substrings: xgfxkhgcfhvgljh duygjhvghgdutyf\n",
      "substrings: xgfxkhgcfhvglj hduygjhvghgdut\n",
      "substrings: xgfxkhgcfhvgl jhduygjhvghgd\n",
      "substrings: xgfxkhgcfhvg ljhduygjhvgh\n",
      "substrings: xgfxkhgcfhv gljhduygjhv\n",
      "substrings: xgfxkhgcfh vgljhduygj\n",
      "substrings: xgfxkhgcf hvgljhduy\n",
      "substrings: xgfxkhgc fhvgljhd\n",
      "substrings: xgfxkhg cfhvglj\n",
      "substrings: xgfxkh gcfhvg\n",
      "substrings: xgfxk hgcfh\n",
      "substrings: xgfx khgc\n",
      "substrings: xgf xkh\n",
      "substrings: xg fx\n",
      "substrings: x g\n",
      "substrings:  x\n"
     ]
    },
    {
     "data": {
      "text/plain": [
       "False"
      ]
     },
     "execution_count": 298,
     "metadata": {},
     "output_type": "execute_result"
    }
   ],
   "source": [
    "unshuffle_square('xgfxkhgcfhvgljhduygjhvghgdutyfguyjcvhgddkfhgvghdhkdflhchgxdghfdcjhvchgxgfdkhgchkxdgdhkgfchkgdh')"
   ]
  },
  {
   "cell_type": "code",
   "execution_count": null,
   "metadata": {},
   "outputs": [],
   "source": []
  }
 ],
 "metadata": {
  "kernelspec": {
   "display_name": "Python 3",
   "language": "python",
   "name": "python3"
  },
  "language_info": {
   "codemirror_mode": {
    "name": "ipython",
    "version": 3
   },
   "file_extension": ".py",
   "mimetype": "text/x-python",
   "name": "python",
   "nbconvert_exporter": "python",
   "pygments_lexer": "ipython3",
   "version": "3.6.4"
  }
 },
 "nbformat": 4,
 "nbformat_minor": 2
}
